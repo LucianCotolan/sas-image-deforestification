{
 "cells": [
  {
   "cell_type": "code",
   "execution_count": 10,
   "metadata": {},
   "outputs": [],
   "source": [
    "import matplotlib.pyplot as plt\n",
    "import matplotlib.image as mpimg\n",
    "import os\n",
    "from IPython.display import clear_output"
   ]
  },
  {
   "cell_type": "code",
   "execution_count": 11,
   "metadata": {},
   "outputs": [],
   "source": [
    "def save_image(label, photo, img):\n",
    "   filename = 'labels/'\n",
    "\n",
    "   # deforestation\n",
    "   if label == 'd':\n",
    "       print('deforestation')\n",
    "       filename += 'deforestation/' + photo\n",
    "       plt.imsave(filename, img)\n",
    "\n",
    "   # not deforestation\n",
    "   if label == 'n':\n",
    "       print('not deforestation')\n",
    "       filename += 'not_deforestation/' + photo\n",
    "       plt.imsave(filename, img)\n",
    "\n",
    "   # exclude\n",
    "   if label == 'e':\n",
    "       print('excluded')\n",
    "       filename += 'excluded/' + photo\n",
    "       plt.imsave(filename, img)"
   ]
  },
  {
   "cell_type": "code",
   "execution_count": 12,
   "metadata": {},
   "outputs": [
    {
     "name": "stdout",
     "output_type": "stream",
     "text": [
      "excluded\n"
     ]
    },
    {
     "data": {
      "image/png": "[encoded data removed]",
      "text/plain": [
       "<Figure size 720x720 with 1 Axes>"
      ]
     },
     "metadata": {
      "needs_background": "light"
     },
     "output_type": "display_data"
    }
   ],
   "source": [
    "base_path = 'fragments/'\n",
    "for photo in os.listdir(base_path):\n",
    "   photo_path = base_path + photo\n",
    "   img = mpimg.imread(photo_path)\n",
    "\n",
    "   plt.figure(figsize = (10,10))\n",
    "   plt.imshow(img)\n",
    "   plt.show()\n",
    "   clear_output(wait=True)\n",
    "\n",
    "   label = input()\n",
    "\n",
    "   if label == 's':\n",
    "      break\n",
    "   # save image to new folder\n",
    "   save_image(label, photo, img)\n",
    "   #os.remove(photo_path)"
   ]
  }
 ],
 "metadata": {
  "kernelspec": {
   "display_name": "base",
   "language": "python",
   "name": "python3"
  },
  "language_info": {
   "codemirror_mode": {
    "name": "ipython",
    "version": 3
   },
   "file_extension": ".py",
   "mimetype": "text/x-python",
   "name": "python",
   "nbconvert_exporter": "python",
   "pygments_lexer": "ipython3",
   "version": "3.9.7"
  },
  "orig_nbformat": 4,
  "vscode": {
   "interpreter": {
    "hash": "864d7f1b085bac4084ed035f0aeab81b00abb421b2ddd89dc89c620886c43298"
   }
  }
 },
 "nbformat": 4,
 "nbformat_minor": 2
}
